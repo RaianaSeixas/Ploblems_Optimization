{
  "nbformat": 4,
  "nbformat_minor": 0,
  "metadata": {
    "colab": {
      "name": "Problem_Vessel_WOA.ipynb",
      "version": "0.3.2",
      "provenance": [],
      "collapsed_sections": [],
      "include_colab_link": true
    },
    "kernelspec": {
      "name": "python3",
      "display_name": "Python 3"
    }
  },
  "cells": [
    {
      "cell_type": "markdown",
      "metadata": {
        "id": "view-in-github",
        "colab_type": "text"
      },
      "source": [
        "<a href=\"https://colab.research.google.com/github/RaianaSeixas/Ploblems_Optimization/blob/master/Problem_Vessel_WOA.ipynb\" target=\"_parent\"><img src=\"https://colab.research.google.com/assets/colab-badge.svg\" alt=\"Open In Colab\"/></a>"
      ]
    },
    {
      "cell_type": "code",
      "metadata": {
        "id": "0K-zan9EYOD4",
        "colab_type": "code",
        "outputId": "d582739c-98eb-4944-c7bb-7504019a4a73",
        "colab": {
          "base_uri": "https://localhost:8080/",
          "height": 34
        }
      },
      "source": [
        "!git clone https://github.com/RaianaSeixas/GERENCIADOR.git #clonar do Github"
      ],
      "execution_count": 0,
      "outputs": [
        {
          "output_type": "stream",
          "text": [
            "fatal: destination path 'GERENCIADOR' already exists and is not an empty directory.\n"
          ],
          "name": "stdout"
        }
      ]
    },
    {
      "cell_type": "code",
      "metadata": {
        "id": "goZFfGM-YSEn",
        "colab_type": "code",
        "outputId": "b0630f63-83b9-4ea7-f5b4-a350913f5f04",
        "colab": {
          "base_uri": "https://localhost:8080/",
          "height": 85
        }
      },
      "source": [
        "%cd\n",
        "%cd /content/GERENCIADOR\n",
        "!ls"
      ],
      "execution_count": 0,
      "outputs": [
        {
          "output_type": "stream",
          "text": [
            "/root\n",
            "/content/GERENCIADOR\n",
            "ABC.py\t   Function.py\tGWO.py\tPSO.py\t     WOA.py\n",
            "Enxame.py  GERENCIADOR\tMUT.py\t__pycache__\n"
          ],
          "name": "stdout"
        }
      ]
    },
    {
      "cell_type": "code",
      "metadata": {
        "id": "yhJTAIXuYzV9",
        "colab_type": "code",
        "colab": {}
      },
      "source": [
        "import WOA\n",
        "import Enxame"
      ],
      "execution_count": 0,
      "outputs": []
    },
    {
      "cell_type": "code",
      "metadata": {
        "id": "NhquPhp8AnrK",
        "colab_type": "code",
        "colab": {}
      },
      "source": [
        "import numpy as np\n",
        "from scipy import optimize\n"
      ],
      "execution_count": 0,
      "outputs": []
    },
    {
      "cell_type": "code",
      "metadata": {
        "id": "LbaewXipBVIV",
        "colab_type": "code",
        "outputId": "83c29a1a-0efa-4f7f-a119-5cc61c4ff140",
        "colab": {
          "base_uri": "https://localhost:8080/",
          "height": 54
        }
      },
      "source": [
        "'''Mola Function'''\n",
        "'''def Fun(x):\n",
        "  g1=1-(x[1]**3*x[2])/(71785*(x[0]**4))\n",
        "  g2=(4*(x[1]**2)-x[0]*x[1])/(12566*x[1]*(x[0]**3)-12566*(x[0]**4))+(1/(5108*x[0]**2))-1\n",
        "  #g2=(4*(x[1]**2)-x[0]*x[1])/(12566*x[1]*(x[0]**3)-12566*(x[0]**4))+(1/(5108*x[0]**2))\n",
        "  #g2=(4*(x[1]**2)-x[0]*x[1])/(12566*x[1]*(x[0]**3)-12566*(x[0]**4))-(1/(5108*x[0]**2))\n",
        "  #g2=0\n",
        "  g3=1-140.45*x[0]/((x[1]**2)*x[2])\n",
        "  g4=(x[0]+x[1])/1.5-1\n",
        "  #g4=(x[0]+x[1])/1.5\n",
        "  fx=(x[2]+2)*x[1]*x[0]**2\n",
        "\n",
        "  if g1<=0:\n",
        "    g1=0\n",
        "  else:\n",
        "    g1=1e99  \n",
        "  if g2<=0:\n",
        "    g2=0\n",
        "  else:\n",
        "    g2=1e99\n",
        "  if g3<=0:\n",
        "    g3=0\n",
        "  else:\n",
        "    g3=1e99\n",
        "  if g4<=0:\n",
        "    g4=0\n",
        "  else:\n",
        "    g4=1e99\n",
        "  MIN=[g1,g2,g3,g4,fx]\n",
        "  fun=max(MIN)\n",
        "  return fun'''\n"
      ],
      "execution_count": 0,
      "outputs": [
        {
          "output_type": "execute_result",
          "data": {
            "text/plain": [
              "'def Fun(x):\\n  g1=1-(x[1]**3*x[2])/(71785*(x[0]**4))\\n  g2=(4*(x[1]**2)-x[0]*x[1])/(12566*x[1]*(x[0]**3)-12566*(x[0]**4))+(1/(5108*x[0]**2))-1\\n  #g2=(4*(x[1]**2)-x[0]*x[1])/(12566*x[1]*(x[0]**3)-12566*(x[0]**4))+(1/(5108*x[0]**2))\\n  #g2=(4*(x[1]**2)-x[0]*x[1])/(12566*x[1]*(x[0]**3)-12566*(x[0]**4))-(1/(5108*x[0]**2))\\n  #g2=0\\n  g3=1-140.45*x[0]/((x[1]**2)*x[2])\\n  g4=(x[0]+x[1])/1.5-1\\n  #g4=(x[0]+x[1])/1.5\\n  fx=(x[2]+2)*x[1]*x[0]**2\\n\\n  if g1<=0:\\n    g1=0\\n  else:\\n    g1=1e99  \\n  if g2<=0:\\n    g2=0\\n  else:\\n    g2=1e99\\n  if g3<=0:\\n    g3=0\\n  else:\\n    g3=1e99\\n  if g4<=0:\\n    g4=0\\n  else:\\n    g4=1e99\\n  MIN=[g1,g2,g3,g4,fx]\\n  fun=max(MIN)\\n  return fun'"
            ]
          },
          "metadata": {
            "tags": []
          },
          "execution_count": 122
        }
      ]
    },
    {
      "cell_type": "code",
      "metadata": {
        "id": "vKBYjQISA94z",
        "colab_type": "code",
        "colab": {}
      },
      "source": [
        "#Pressure Vessel Problem\n",
        "\n",
        "def Fun(x):\n",
        "  g1=-x[0]+0.0193*x[2]\n",
        "  g2=-x[1]+0.00954*x[2]\n",
        "  g3=-np.pi*(x[2]**2)*x[3]-4/3*np.pi*x[2]**3+1296000\n",
        "  g4=x[3]-240\n",
        "  \n",
        "  fx=0.6224*x[0]*x[2]*x[3]+1.7781*x[1]*x[2]**2+3.1661*x[0]**2*x[3]+19.84*x[0]**2*x[2]\n",
        "  \n",
        "  if g1<=0:\n",
        "    g1=0\n",
        "  else:\n",
        "    g1=1e15  \n",
        "  if g2<=0:\n",
        "    g2=0\n",
        "  else:\n",
        "    g2=1e15\n",
        "  if g3<=0:\n",
        "    g3=0\n",
        "  else:\n",
        "    g3=1e15\n",
        "  if g4<=0:\n",
        "    g4=0\n",
        "  else:\n",
        "    g4=1e15\n",
        "  MIN=[g1,g2,g3,g4,fx]\n",
        "  fun=max(MIN)\n",
        "  return fun\n",
        "  \n",
        "  "
      ],
      "execution_count": 0,
      "outputs": []
    },
    {
      "cell_type": "code",
      "metadata": {
        "id": "Iz6w9i9xJGU1",
        "colab_type": "code",
        "colab": {}
      },
      "source": [
        "'''Mola Function'''\n",
        "def Testa(x):\n",
        "\n",
        "  g1=-x[0]+0.0193*x[2]\n",
        "  g2=-x[1]+0.00954*x[2]\n",
        "  g3=-np.pi*(x[2]**2)*x[3]-4/3*np.pi*x[2]**3+1296000\n",
        "  g4=x[3]-240\n",
        "  \n",
        "  fx=0.6224*x[0]*x[2]*x[3]+1.7781*x[1]*x[2]**2+3.1661*x[0]**2*x[3]+19.84*x[0]**2*x[2]\n",
        "  VETOR=[g1,g2,g3,g4,fx]\n",
        "  return VETOR\n"
      ],
      "execution_count": 0,
      "outputs": []
    },
    {
      "cell_type": "code",
      "metadata": {
        "id": "8Z0rSCdWWdx3",
        "colab_type": "code",
        "colab": {}
      },
      "source": [
        "MIN=[0,0,10,10]\n",
        "MAX=[99,99,200,200]\n",
        "PAR=len(MAX)\n",
        "\n",
        "NPAR=200\n",
        "ITE=500"
      ],
      "execution_count": 0,
      "outputs": []
    },
    {
      "cell_type": "code",
      "metadata": {
        "id": "N2SE_r9vZdcp",
        "colab_type": "code",
        "outputId": "20edd859-c965-48be-812e-801c8b71a2c4",
        "colab": {
          "base_uri": "https://localhost:8080/",
          "height": 136
        }
      },
      "source": [
        "    \n",
        "    X=Enxame.Enxame(PAR,NPAR,MAX,MIN) # inicializa baleias\n",
        "    \n",
        "    BEST_WOA,FOBEST_WOA,XY_WOA,BEST_XY_WOA=WOA.WOA(ITE,PAR,NPAR,MAX,MIN,Fun,X) #Roda Algoritmo\n",
        "    \n",
        "    print(\"\\n\",\"WOA _\",NPAR,\"Agentes _\",ITE,\"Iterações _\",\"Min/Max=\",MIN[0],\"/\",MAX[0],'_',Fun.__name__,\"\\n\")\n",
        "    print(\"BEST=\",BEST_WOA,\"  FOBEST=\",FOBEST_WOA,\"\\n\")\n",
        "    print(\"FOBEST=\",FOBEST_WOA,\"\\n\")"
      ],
      "execution_count": 0,
      "outputs": [
        {
          "output_type": "stream",
          "text": [
            "\n",
            " WOA _ 200 Agentes _ 500 Iterações _ Min/Max= 0 / 99 _ Fun \n",
            "\n",
            "BEST= [  0.78345476   0.38739693  40.59213355 196.24974052]   FOBEST= 5898.728395319231 \n",
            "\n",
            "FOBEST= 5898.728395319231 \n",
            "\n"
          ],
          "name": "stdout"
        }
      ]
    },
    {
      "cell_type": "code",
      "metadata": {
        "id": "h50KpiG1A6A6",
        "colab_type": "code",
        "outputId": "1dec7bcc-3c6a-43e6-99ea-032667b07fb3",
        "colab": {
          "base_uri": "https://localhost:8080/",
          "height": 54
        }
      },
      "source": [
        "'''#MIN=[0.05,0.25,2]\n",
        "#MAX=[2,1.3,15]\n",
        "bounds = [(0.05, 2), (0.25, 1.3),(2,15)]\n",
        "ret = optimize.differential_evolution(function,bounds,\n",
        "                                      init=\"latinhypercube\", # obs: init=\"random\"\n",
        "                                      maxiter=1000, popsize=50,recombination=0.5)'''"
      ],
      "execution_count": 0,
      "outputs": [
        {
          "output_type": "execute_result",
          "data": {
            "text/plain": [
              "'#MIN=[0.05,0.25,2]\\n#MAX=[2,1.3,15]\\nbounds = [(0.05, 2), (0.25, 1.3),(2,15)]\\nret = optimize.differential_evolution(function,bounds,\\n                                      init=\"latinhypercube\", # obs: init=\"random\"\\n                                      maxiter=1000, popsize=50,recombination=0.5)'"
            ]
          },
          "metadata": {
            "tags": []
          },
          "execution_count": 127
        }
      ]
    },
    {
      "cell_type": "code",
      "metadata": {
        "id": "bIgjNxroA-iB",
        "colab_type": "code",
        "colab": {}
      },
      "source": [
        "#print(\"global minimum: x = \",ret.x, \"f(x0) = \",ret.fun)"
      ],
      "execution_count": 0,
      "outputs": []
    },
    {
      "cell_type": "code",
      "metadata": {
        "id": "Rlf3dDynJfuX",
        "colab_type": "code",
        "outputId": "06a244c5-0e39-457b-e0cc-18288701f388",
        "colab": {
          "base_uri": "https://localhost:8080/",
          "height": 85
        }
      },
      "source": [
        "#otimo DE(huang et al)\n",
        "x0=0.812500\n",
        "x1=0.437500\n",
        "x2=42.098411\n",
        "x3=176.637690\n",
        "z=[x0,x1,x2,x3]\n",
        "Resp=Testa(z)\n",
        "print(\"--- otimo--------\")\n",
        "print(Resp)\n",
        "#VETOR=[g1,g2,g3,g4,fx]\n",
        "Resp=Testa(BEST_WOA)\n",
        "print(\"--- calculado----\")\n",
        "print(Resp)"
      ],
      "execution_count": 0,
      "outputs": [
        {
          "output_type": "stream",
          "text": [
            "--- otimo--------\n",
            "[-6.676999999566391e-07, -0.03588115906, -3.7051236890256405, -63.36231000000001, 6059.734106303751]\n",
            "--- calculado----\n",
            "[-2.6586609535583783e-05, -0.00014797959515322479, -45.96372914686799, -43.75025947924584, 5895.201763597565]\n"
          ],
          "name": "stdout"
        }
      ]
    },
    {
      "cell_type": "code",
      "metadata": {
        "id": "6Uxxd5EEYPBy",
        "colab_type": "code",
        "colab": {}
      },
      "source": [
        ""
      ],
      "execution_count": 0,
      "outputs": []
    }
  ]
}