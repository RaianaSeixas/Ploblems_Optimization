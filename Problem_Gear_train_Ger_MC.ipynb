{
  "nbformat": 4,
  "nbformat_minor": 0,
  "metadata": {
    "colab": {
      "name": "Problem_Gear train_Ger_MC.ipynb",
      "version": "0.3.2",
      "provenance": [],
      "collapsed_sections": [],
      "include_colab_link": true
    },
    "kernelspec": {
      "name": "python3",
      "display_name": "Python 3"
    }
  },
  "cells": [
    {
      "cell_type": "markdown",
      "metadata": {
        "id": "view-in-github",
        "colab_type": "text"
      },
      "source": [
        "<a href=\"https://colab.research.google.com/github/RaianaSeixas/Ploblems_Optimization/blob/master/Problem_Gear_train_Ger_MC.ipynb\" target=\"_parent\"><img src=\"https://colab.research.google.com/assets/colab-badge.svg\" alt=\"Open In Colab\"/></a>"
      ]
    },
    {
      "cell_type": "code",
      "metadata": {
        "id": "VNDZTKWUBOge",
        "colab_type": "code",
        "outputId": "1f151756-4ccf-48a3-ee70-6b1016a947e7",
        "colab": {
          "base_uri": "https://localhost:8080/",
          "height": 134
        }
      },
      "source": [
        "############################### Importar códigos\n",
        "\n",
        "!git clone https://github.com/RaianaSeixas/GERENCIADOR.git #clonar do Github"
      ],
      "execution_count": 9,
      "outputs": [
        {
          "output_type": "stream",
          "text": [
            "Cloning into 'GERENCIADOR'...\n",
            "remote: Enumerating objects: 16, done.\u001b[K\n",
            "remote: Counting objects:   6% (1/16)   \u001b[K\rremote: Counting objects:  12% (2/16)   \u001b[K\rremote: Counting objects:  18% (3/16)   \u001b[K\rremote: Counting objects:  25% (4/16)   \u001b[K\rremote: Counting objects:  31% (5/16)   \u001b[K\rremote: Counting objects:  37% (6/16)   \u001b[K\rremote: Counting objects:  43% (7/16)   \u001b[K\rremote: Counting objects:  50% (8/16)   \u001b[K\rremote: Counting objects:  56% (9/16)   \u001b[K\rremote: Counting objects:  62% (10/16)   \u001b[K\rremote: Counting objects:  68% (11/16)   \u001b[K\rremote: Counting objects:  75% (12/16)   \u001b[K\rremote: Counting objects:  81% (13/16)   \u001b[K\rremote: Counting objects:  87% (14/16)   \u001b[K\rremote: Counting objects:  93% (15/16)   \u001b[K\rremote: Counting objects: 100% (16/16)   \u001b[K\rremote: Counting objects: 100% (16/16), done.\u001b[K\n",
            "remote: Compressing objects:   6% (1/16)   \u001b[K\rremote: Compressing objects:  12% (2/16)   \u001b[K\rremote: Compressing objects:  18% (3/16)   \u001b[K\rremote: Compressing objects:  25% (4/16)   \u001b[K\rremote: Compressing objects:  31% (5/16)   \u001b[K\rremote: Compressing objects:  37% (6/16)   \u001b[K\rremote: Compressing objects:  43% (7/16)   \u001b[K\rremote: Compressing objects:  50% (8/16)   \u001b[K\rremote: Compressing objects:  56% (9/16)   \u001b[K\rremote: Compressing objects:  62% (10/16)   \u001b[K\rremote: Compressing objects:  68% (11/16)   \u001b[K\rremote: Compressing objects:  75% (12/16)   \u001b[K\rremote: Compressing objects:  81% (13/16)   \u001b[K\rremote: Compressing objects:  87% (14/16)   \u001b[K\rremote: Compressing objects:  93% (15/16)   \u001b[K\rremote: Compressing objects: 100% (16/16)   \u001b[K\rremote: Compressing objects: 100% (16/16), done.\u001b[K\n",
            "Receiving objects:   0% (1/101)   \rReceiving objects:   1% (2/101)   \rReceiving objects:   2% (3/101)   \rReceiving objects:   3% (4/101)   \rReceiving objects:   4% (5/101)   \rReceiving objects:   5% (6/101)   \rReceiving objects:   6% (7/101)   \rReceiving objects:   7% (8/101)   \rReceiving objects:   8% (9/101)   \rReceiving objects:   9% (10/101)   \rReceiving objects:  10% (11/101)   \rReceiving objects:  11% (12/101)   \rReceiving objects:  12% (13/101)   \rReceiving objects:  13% (14/101)   \rReceiving objects:  14% (15/101)   \rReceiving objects:  15% (16/101)   \rReceiving objects:  16% (17/101)   \rReceiving objects:  17% (18/101)   \rReceiving objects:  18% (19/101)   \rReceiving objects:  19% (20/101)   \rReceiving objects:  20% (21/101)   \rReceiving objects:  21% (22/101)   \rReceiving objects:  22% (23/101)   \rReceiving objects:  23% (24/101)   \rReceiving objects:  24% (25/101)   \rReceiving objects:  25% (26/101)   \rReceiving objects:  26% (27/101)   \rReceiving objects:  27% (28/101)   \rReceiving objects:  28% (29/101)   \rReceiving objects:  29% (30/101)   \rReceiving objects:  30% (31/101)   \rReceiving objects:  31% (32/101)   \rReceiving objects:  32% (33/101)   \rReceiving objects:  33% (34/101)   \rReceiving objects:  34% (35/101)   \rReceiving objects:  35% (36/101)   \rReceiving objects:  36% (37/101)   \rReceiving objects:  37% (38/101)   \rReceiving objects:  38% (39/101)   \rReceiving objects:  39% (40/101)   \rReceiving objects:  40% (41/101)   \rReceiving objects:  41% (42/101)   \rReceiving objects:  42% (43/101)   \rReceiving objects:  43% (44/101)   \rReceiving objects:  44% (45/101)   \rReceiving objects:  45% (46/101)   \rReceiving objects:  46% (47/101)   \rReceiving objects:  47% (48/101)   \rReceiving objects:  48% (49/101)   \rReceiving objects:  49% (50/101)   \rReceiving objects:  50% (51/101)   \rReceiving objects:  51% (52/101)   \rReceiving objects:  52% (53/101)   \rReceiving objects:  53% (54/101)   \rReceiving objects:  54% (55/101)   \rReceiving objects:  55% (56/101)   \rReceiving objects:  56% (57/101)   \rReceiving objects:  57% (58/101)   \rReceiving objects:  58% (59/101)   \rReceiving objects:  59% (60/101)   \rReceiving objects:  60% (61/101)   \rReceiving objects:  61% (62/101)   \rReceiving objects:  62% (63/101)   \rReceiving objects:  63% (64/101)   \rReceiving objects:  64% (65/101)   \rReceiving objects:  65% (66/101)   \rReceiving objects:  66% (67/101)   \rReceiving objects:  67% (68/101)   \rReceiving objects:  68% (69/101)   \rReceiving objects:  69% (70/101)   \rReceiving objects:  70% (71/101)   \rReceiving objects:  71% (72/101)   \rReceiving objects:  72% (73/101)   \rReceiving objects:  73% (74/101)   \rReceiving objects:  74% (75/101)   \rReceiving objects:  75% (76/101)   \rReceiving objects:  76% (77/101)   \rReceiving objects:  77% (78/101)   \rReceiving objects:  78% (79/101)   \rReceiving objects:  79% (80/101)   \rReceiving objects:  80% (81/101)   \rReceiving objects:  81% (82/101)   \rremote: Total 101 (delta 5), reused 0 (delta 0), pack-reused 85\u001b[K\n",
            "Receiving objects:  82% (83/101)   \rReceiving objects:  83% (84/101)   \rReceiving objects:  84% (85/101)   \rReceiving objects:  85% (86/101)   \rReceiving objects:  86% (87/101)   \rReceiving objects:  87% (88/101)   \rReceiving objects:  88% (89/101)   \rReceiving objects:  89% (90/101)   \rReceiving objects:  90% (91/101)   \rReceiving objects:  91% (92/101)   \rReceiving objects:  92% (93/101)   \rReceiving objects:  93% (94/101)   \rReceiving objects:  94% (95/101)   \rReceiving objects:  95% (96/101)   \rReceiving objects:  96% (97/101)   \rReceiving objects:  97% (98/101)   \rReceiving objects:  98% (99/101)   \rReceiving objects:  99% (100/101)   \rReceiving objects: 100% (101/101)   \rReceiving objects: 100% (101/101), 44.09 KiB | 3.39 MiB/s, done.\n",
            "Resolving deltas:   0% (0/49)   \rResolving deltas:   2% (1/49)   \rResolving deltas:   4% (2/49)   \rResolving deltas:   8% (4/49)   \rResolving deltas:  22% (11/49)   \rResolving deltas:  32% (16/49)   \rResolving deltas:  46% (23/49)   \rResolving deltas:  48% (24/49)   \rResolving deltas:  55% (27/49)   \rResolving deltas:  59% (29/49)   \rResolving deltas:  77% (38/49)   \rResolving deltas:  83% (41/49)   \rResolving deltas:  85% (42/49)   \rResolving deltas:  89% (44/49)   \rResolving deltas: 100% (49/49)   \rResolving deltas: 100% (49/49), done.\n"
          ],
          "name": "stdout"
        }
      ]
    },
    {
      "cell_type": "code",
      "metadata": {
        "id": "btZL0H3XBPx-",
        "colab_type": "code",
        "outputId": "ee975218-2d88-4bab-9f31-c69ffcb0c57f",
        "colab": {
          "base_uri": "https://localhost:8080/",
          "height": 118
        }
      },
      "source": [
        "%cd\n",
        "%cd /content/GERENCIADOR\n",
        "!ls"
      ],
      "execution_count": 10,
      "outputs": [
        {
          "output_type": "stream",
          "text": [
            "/root\n",
            "/content/GERENCIADOR\n",
            "1_WOA_Main_R.ipynb    4_GWO_Main_R.ipynb    Enxame.py\t MUT.py\n",
            "2_ABC_Main_R.ipynb    ABCMC.py\t\t    Function.py  PSO.py\n",
            "2_ABCMC_Main_R.ipynb  ABC.py\t\t    GERENCIADOR  __pycache__\n",
            "3_PSO_Main_R.ipynb    DE_jun_16_2019.ipynb  GWO.py\t WOA.py\n"
          ],
          "name": "stdout"
        }
      ]
    },
    {
      "cell_type": "code",
      "metadata": {
        "id": "ZCZIRV3KQiy6",
        "colab_type": "code",
        "colab": {}
      },
      "source": [
        "'''3 bar Truss Function'''\n",
        "def Fun(x):\n",
        "  fx=(1/6.931-x[2]*x[1]/(x[0]*x[3]))**2\n",
        "  return fx\n"
      ],
      "execution_count": 0,
      "outputs": []
    },
    {
      "cell_type": "code",
      "metadata": {
        "id": "rKDxtSsaR83m",
        "colab_type": "code",
        "colab": {}
      },
      "source": [
        "import numpy as np\n",
        "MIN=np.repeat(12,4)\n",
        "MAX=np.repeat(60,4)"
      ],
      "execution_count": 0,
      "outputs": []
    },
    {
      "cell_type": "code",
      "metadata": {
        "id": "v1OxgXboBKoG",
        "colab_type": "code",
        "outputId": "4be25a84-5a67-470d-b24c-e98d989aa316",
        "colab": {
          "base_uri": "https://localhost:8080/",
          "height": 219
        }
      },
      "source": [
        "############################### Importar bibliotecas e iniciar a contagem do tempo\n",
        "import time\n",
        "#import matplotlib.pyplot as plt\n",
        "from random import randint\n",
        "\n",
        "############################### Importar códigos\n",
        "'''\n",
        "!git clone https://github.com/RaianaSeixas/GERENCIADOR.git #clonar do Github\n",
        "\n",
        "# %cd\n",
        "# %cd /content/GERENCIADOR\n",
        "!ls\n",
        "'''\n",
        "\n",
        "############################### DADOS DE ENTRADA \n",
        "RUNS=10 #NÚMERO DE RODADAS\n",
        "PAR=len(MAX) #NUM DE PARAMETROS A SER OTIMIZADOS\n",
        "\n",
        "################################ FASE EXPLORAÇÃO \n",
        "ITE=300 #ITERACOES\n",
        "NPAR=500 #AGENTES POR MÉTODO\n",
        "MET=2 #NUM DE MÉTODOS FASE EXPLORAÇÃO \n",
        "\n",
        "################################## FASE MUTAÇÃO\n",
        "itermut=300 #Iterações de mutação \n",
        "nw=200 #Agentes totais na fase de mutação\n",
        "n=10 #qde de melhores agentes de tds os métodos coletados\n",
        "nt=3 #qde de melhores agentes de cada método coletados (primeira iter)\n",
        "\n",
        "################################### FASE CONVERGÊNCIA\n",
        "ITE_G=200 #ITERAÇÕES\n",
        "PTRADE=200 #NUM DE PARTÍCULAS A SERERM TROCADAS ENTRE OS MÉTODOS\n",
        "\n",
        "W=0.5\n",
        "C1=1\n",
        "C2=1\n",
        "\n",
        "##################################### IMPORTAR MÓDULOS\n",
        "import Enxame\n",
        "import MUT\n",
        "#import GWO\n",
        "import WOA\n",
        "import ABC\n",
        "import ABCMC\n",
        "import PSO\n",
        "\n",
        "start_time = time.time() #INICIALIZA CONTAGEM DO TEMPO\n",
        "\n",
        "'''\n",
        "def count(fn):\n",
        "        def wrapper(*args, **kwargs):\n",
        "            wrapper.called+= 1\n",
        "            return fn(*args, **kwargs)\n",
        "        wrapper.called= 0\n",
        "        wrapper.__name__= fn.__name__\n",
        "        return wrapper \n",
        "\n",
        "#FOBJ gera vetorialmente os valores com a funcao objetivo escalar\n",
        "#em outras palavras gera para populacao o valor da funcao a ser otimizada\n",
        "\n",
        "@count\n",
        "def FOBJ(X,Fun):\n",
        "    rows = X.shape[0]\n",
        "    fobj=np.zeros(rows)\n",
        "    for i in range(rows):\n",
        "        fobj[i]=Fun(X[i,])\n",
        "    return fobj\n",
        "'''\n",
        "BEST_AGENTS=[]\n",
        "for i in range(RUNS):\n",
        "    \n",
        "    ############################## BALEIA - WOA\n",
        "    \n",
        "    \n",
        "    X=Enxame.Enxame(PAR,NPAR,MAX,MIN) # inicializa baleias\n",
        "    \n",
        "    BEST_WOA,FOBEST_WOA,XY_WOA,BEST_XY_WOA=WOA.WOA(ITE,PAR,NPAR,MAX,MIN,Fun,X) #Roda Algoritmo\n",
        "    \n",
        "    #print(\"\\n\",\"WOA _\",NPAR,\"Agentes _\",ITE,\"Iterações _\",\"Min/Max=\",MIN[0],\"/\",MAX[0],'_',Fun.__name__,\"\\n\")\n",
        "    #print(\"BEST=\",BEST_WOA,\"  FOBEST=\",FOBEST_WOA,\"\\n\")\n",
        "    #print(\"FOBEST=\",FOBEST_WOA,\"\\n\")\n",
        "    \n",
        "    XY_WOA_T=XY_WOA[0:PTRADE,]\n",
        "    #print(XY_WOA_T)\n",
        "    \n",
        "    ############################## ABELHAS - ABC\n",
        "    \n",
        "    ntrail=10 #numero de buscas ate abandonar uma fonte de alimento\n",
        "    \n",
        "    X=Enxame.Enxame(PAR,NPAR,MAX,MIN) # inicializa employed bee\n",
        "    \n",
        "    BEST_ABC,FOBEST_ABC,XY_ABC,BEST_XY_ABC=ABCMC.ABCOPtim(ITE,PAR,NPAR,MAX,MIN,Fun,X,ntrail)\n",
        "    \n",
        "    #print(\"\\n\",\"ABC _\",NPAR,\"Agentes _\",ITE,\"Iterações _\",\"Min/Max=\",MIN[0],\"/\",MAX[0],'_',Fun.__name__,\"\\n\")\n",
        "    #print(\"BEST=\",BEST_ABC,\"  FOBEST=\",FOBEST_ABC, \"\\n\")\n",
        "    \n",
        "    BEST_XY_ABC=np.append(BEST_ABC,FOBEST_ABC)\n",
        "   \n",
        "    ############################ SOS Mutações\n",
        "    #MBEST=np.vstack([BEST_XY_ABC,BEST_XY_GWO,BEST_XY_WOA,BEST_XY_PSO]) # reúne o melhor agente de cada método\n",
        "    MBEST=np.vstack([BEST_XY_ABC,BEST_XY_WOA]) # reúne o melhor agente de cada método\n",
        "    #print(MBEST)\n",
        "    \n",
        "    # GWO\n",
        "    #X_GWO=MUT.GETX(XY_GWO,PAR)\n",
        "    #Y_GWO=MUT.GETY(XY_GWO)\n",
        "    \n",
        "    # WOA\n",
        "    X_WOA=MUT.GETX(XY_WOA,PAR)\n",
        "    Y_WOA=MUT.GETY(XY_WOA)\n",
        "    \n",
        "    # PSO\n",
        "    #X_PSO=MUT.GETX(XY_PSO,PAR)\n",
        "    #Y_PSO=MUT.GETY(XY_PSO)\n",
        "    \n",
        "    # MUT3New GWO WOA PSO\n",
        "    '''\n",
        "    Xnew3=MUT.MUT3(X_GWO,MBEST,NPAR,PAR,MAX,MIN) # Aplica Mutação\n",
        "    Ynew3=MUT.FOBJ(Xnew3,Fun) # Obter FO mutante\n",
        "    XYm3_GWO=MUT.XYsort(Xnew3,Ynew3) #Junta e ordena tds os agentes\n",
        "    #print('XYm_GWO3: ',XYm3_GWO)\n",
        "    '''\n",
        "    Xnew3=MUT.MUT3(X_WOA,MBEST,NPAR,PAR,MAX,MIN) # Aplica Mutação\n",
        "    Ynew3=MUT.FOBJ(Xnew3,Fun) # Obter FO mutante\n",
        "    XYm3_WOA=MUT.XYsort(Xnew3,Ynew3) #Junta e ordena tds os agentes\n",
        "    #print('XYm3_WOA: ',XYm3_WOA)\n",
        "    '''\n",
        "    Xnew3=MUT.MUT3(X_PSO,MBEST,NPAR,PAR,MAX,MIN) # Aplica Mutação\n",
        "    Ynew3=MUT.FOBJ(Xnew3,Fun) # Obter FO mutante\n",
        "    XYm3_PSO=MUT.XYsort(Xnew3,Ynew3) #Junta e ordena tds os agentes\n",
        "    #print('XYm3_PSO: ',XYm3_PSO)\n",
        "    '''\n",
        "    XYm3=np.vstack((BEST_XY_ABC,XYm3_WOA))\n",
        "    XYm3=XYm3[0:nw]\n",
        "    \n",
        "    # MUT3new MAIN\n",
        "\n",
        "    #######################################################################    \n",
        "    XY=np.vstack((BEST_XY_ABC,XYm3_WOA[nt]))\n",
        "    XY3BEST = XY[XY[:,-1].argsort()] #Ordena a partir de Y\n",
        "\n",
        "    XYCOLECT=XY3BEST\n",
        "    \n",
        "    #Aplica intermut iterações e coleta n melhores agentes das iterações e fazer um sort no final \n",
        "    for i in range(itermut):      \n",
        "        Xnew3=MUT.MUT3(XYm3,XY3BEST,nw,PAR,MAX,MIN) # Aplica Mutação\n",
        "        Ynew3=MUT.FOBJ(Xnew3,Fun) # Obter FO mutante\n",
        "        XYm3=MUT.XYsort(Xnew3,Ynew3) #Junta e ordena tds os agentes\n",
        "        #print('XYm3: ',XYm3[0:nt])\n",
        "        XY3BEST=XYm3[0:n]    \n",
        "        XYCOLECT=np.vstack((XYCOLECT,XY3BEST))\n",
        "    XYCOLECTst = XYCOLECT[XYCOLECT[:,-1].argsort()]\n",
        "    \n",
        "    #XY GERENCIADORES\n",
        "    \n",
        "    XY_G3new=np.vstack((MBEST,XYCOLECTst[0:(PTRADE*(MET-1))]))\n",
        "    #print(XY_G3new)\n",
        "    X_G3new=MUT.GETX(XY_G3new,PAR) #Extrai as primeiras colunas (valores de X)\n",
        "       \n",
        "    BEST_G,FOBEST_G,XY_G,BEST_XY_G=PSO.PSO(W,C1,C2,len(X_G3new),(ITE_G),PAR,MAX,MIN,Fun,X_G3new)\n",
        "    \n",
        "    BEST_AGENTS.append(BEST_XY_G)\n",
        "    \n",
        "    #print(\"\\n\",\"Gerenciador 3_NEW\",len(X_G3new),\"Agentes _\",ITE_G,\"Iterações _\",\"Min/Max=\",MIN[0],\"/\",MAX[0],'_',Fun.__name__,\"\\n\")\n",
        "    #print(\"BEST=\",BEST_G,\"  FOBEST=\",FOBEST_G,\"\\n\")\n",
        "    #print(\"FOBEST=\",FOBEST_G,\"\\n\")\n",
        "    \n",
        "############################## Cálculo dos Parâmetros de Avaliação   \n",
        "TIME = (time.time() - start_time)/RUNS\n",
        "BEST_AGENTS=np.array(BEST_AGENTS)\n",
        "BEST_AGENTS_ST= BEST_AGENTS[BEST_AGENTS[:,-1].argsort()]\n",
        "BEST=BEST_AGENTS_ST[0]\n",
        "WORSE=BEST_AGENTS_ST[-1]\n",
        "MEAN=np.mean(BEST_AGENTS,axis=0)\n",
        "MAXFO=BEST_AGENTS[:,-1].max()\n",
        "MINFO=BEST_AGENTS[:,-1].min()\n",
        "STD=BEST_AGENTS[:,-1].std()\n",
        "\n",
        "print(\"\\n\",\"Gerenciador 3_NEW\",len(X_G3new),\"Agentes _\",ITE_G,\"Iterações _\",\"Min/Max=\",MIN[0],\"/\",MAX[0],'_',Fun.__name__)\n",
        "print('Métodos simples:',NPAR,'Agentes_',ITE,'Iterações_','Dim=', PAR)\n",
        "print(NPAR*(MET-1),'Agentes',itermut,'Iterações de mutação', '\\n')\n",
        "#print('BEST: ',BEST)\n",
        "#print('MÉDIA: ',MEAN)\n",
        "print('MÉDIA: ',MEAN[-1])\n",
        "print('MIN__: ',MINFO)\n",
        "print('MAX__: ',MAXFO)\n",
        "print('STD__: ',STD)\n",
        "print('BEST RESULT: ',BEST_AGENTS_ST[0])\n",
        "print(\"Tempo Médio= %.3f segundos ---\" % (TIME))\n",
        "print(RUNS,'Rodadas')\n",
        "\n",
        "#otimo mfo= 263.89597968\n",
        "#BEST RESULT__: [  0.78864361   0.40833746 263.89584411]"
      ],
      "execution_count": 13,
      "outputs": [
        {
          "output_type": "stream",
          "text": [
            "\n",
            " Gerenciador 3_NEW 202 Agentes _ 200 Iterações _ Min/Max= 12 / 60 _ Fun\n",
            "Métodos simples: 500 Agentes_ 300 Iterações_ Dim= 4\n",
            "500 Agentes 300 Iterações de mutação \n",
            "\n",
            "MÉDIA:  0.0\n",
            "MIN__:  0.0\n",
            "MAX__:  0.0\n",
            "STD__:  0.0\n",
            "BEST RESULT:  [37.65049205 20.15764598 13.76392898 51.07489463  0.        ]\n",
            "Tempo Médio= 24.636 segundos ---\n",
            "10 Rodadas\n"
          ],
          "name": "stdout"
        }
      ]
    },
    {
      "cell_type": "code",
      "metadata": {
        "id": "DtAT2wEqAJyW",
        "colab_type": "code",
        "outputId": "08c6eeeb-724f-47b4-8a3a-fac13268173f",
        "colab": {
          "base_uri": "https://localhost:8080/",
          "height": 33
        }
      },
      "source": [
        "best=BEST_AGENTS_ST[0]\n",
        "x1=round(best[0])\n",
        "x2=round(best[1])\n",
        "x3=round(best[2])\n",
        "x4=round(best[3])\n",
        "BEST=[x1,x2,x3,x4]\n",
        "Fun(BEST)"
      ],
      "execution_count": 14,
      "outputs": [
        {
          "output_type": "execute_result",
          "data": {
            "text/plain": [
              "3.980798957436708e-08"
            ]
          },
          "metadata": {
            "tags": []
          },
          "execution_count": 14
        }
      ]
    },
    {
      "cell_type": "code",
      "metadata": {
        "id": "ebM41AwtNlSV",
        "colab_type": "code",
        "colab": {
          "base_uri": "https://localhost:8080/",
          "height": 185
        },
        "outputId": "252694d8-27d2-4c32-ea92-83744965ca5e"
      },
      "source": [
        "BEST_AGENTS_ST"
      ],
      "execution_count": 15,
      "outputs": [
        {
          "output_type": "execute_result",
          "data": {
            "text/plain": [
              "array([[37.65049205, 20.15764598, 13.76392898, 51.07489463,  0.        ],\n",
              "       [21.97236907, 12.99945659, 13.53987121, 55.52118737,  0.        ],\n",
              "       [46.13020436, 16.724271  , 23.76167329, 59.70830421,  0.        ],\n",
              "       [55.50975712, 14.72141185, 26.84789339, 49.34989685,  0.        ],\n",
              "       [58.73993862, 16.68869965, 24.20801472, 47.66988277,  0.        ],\n",
              "       [39.58193059, 16.10284436, 20.70700762, 58.38736343,  0.        ],\n",
              "       [49.08084305, 13.93031605, 30.43326893, 59.86782196,  0.        ],\n",
              "       [55.35553081, 12.5418678 , 37.55828219, 58.97973524,  0.        ],\n",
              "       [33.81651897, 16.65320049, 17.03694658, 58.15090408,  0.        ],\n",
              "       [26.34768668, 12.0174924 , 18.87634865, 59.67401441,  0.        ]])"
            ]
          },
          "metadata": {
            "tags": []
          },
          "execution_count": 15
        }
      ]
    }
  ]
}