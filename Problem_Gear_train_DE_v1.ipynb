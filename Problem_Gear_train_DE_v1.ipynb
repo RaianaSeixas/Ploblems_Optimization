{
  "nbformat": 4,
  "nbformat_minor": 0,
  "metadata": {
    "colab": {
      "name": "Problem_Gear train_DE_v1",
      "version": "0.3.2",
      "provenance": [],
      "collapsed_sections": [],
      "include_colab_link": true
    },
    "kernelspec": {
      "name": "python3",
      "display_name": "Python 3"
    }
  },
  "cells": [
    {
      "cell_type": "markdown",
      "metadata": {
        "id": "view-in-github",
        "colab_type": "text"
      },
      "source": [
        "<a href=\"https://colab.research.google.com/github/RaianaSeixas/Ploblems_Optimization/blob/master/Problem_Gear_train_DE_v1.ipynb\" target=\"_parent\"><img src=\"https://colab.research.google.com/assets/colab-badge.svg\" alt=\"Open In Colab\"/></a>"
      ]
    },
    {
      "cell_type": "code",
      "metadata": {
        "id": "DhYBZbKGWSve",
        "colab_type": "code",
        "outputId": "f81955e4-0932-4ef0-998e-b82f083d6a00",
        "colab": {
          "base_uri": "https://localhost:8080/",
          "height": 33
        }
      },
      "source": [
        "import numpy as np\n",
        "\n",
        "'''https://pablormier.github.io/2017/09/05/a-tutorial-on-differential-evolution-with-python/'''"
      ],
      "execution_count": 1,
      "outputs": [
        {
          "output_type": "execute_result",
          "data": {
            "text/plain": [
              "'https://pablormier.github.io/2017/09/05/a-tutorial-on-differential-evolution-with-python/'"
            ]
          },
          "metadata": {
            "tags": []
          },
          "execution_count": 1
        }
      ]
    },
    {
      "cell_type": "code",
      "metadata": {
        "id": "q8yPdi-5Wdt2",
        "colab_type": "code",
        "colab": {
          "base_uri": "https://localhost:8080/",
          "height": 53
        },
        "outputId": "9c25693d-d9c2-4ae9-f986-676a8f9a542f"
      },
      "source": [
        "'''def fobj(x):\n",
        "    summ=0\n",
        "    for i in range(len(x)):\n",
        "        new=x[i]*np.sin((abs(x[i]))**0.5)\n",
        "        summ=summ+new\n",
        "#        print(summ)\n",
        "    return (418.9829*len(x)-summ) '''"
      ],
      "execution_count": 2,
      "outputs": [
        {
          "output_type": "execute_result",
          "data": {
            "text/plain": [
              "'def fobj(x):\\n    summ=0\\n    for i in range(len(x)):\\n        new=x[i]*np.sin((abs(x[i]))**0.5)\\n        summ=summ+new\\n#        print(summ)\\n    return (418.9829*len(x)-summ) '"
            ]
          },
          "metadata": {
            "tags": []
          },
          "execution_count": 2
        }
      ]
    },
    {
      "cell_type": "code",
      "metadata": {
        "id": "cjP894W9LUPE",
        "colab_type": "code",
        "colab": {}
      },
      "source": [
        "'''3 bar Truss Function'''\n",
        "def fobj(x):\n",
        "  fx=(1/6.931-x[2]*x[1]/(x[0]*x[3]))**2\n",
        "  return fx"
      ],
      "execution_count": 0,
      "outputs": []
    },
    {
      "cell_type": "code",
      "metadata": {
        "id": "T_ejDzcvWRFT",
        "colab_type": "code",
        "colab": {}
      },
      "source": [
        "def de(fobj, bounds, mut, crossp, popsize, its):\n",
        "\n",
        "  dimensions = len(bounds)\n",
        "  \n",
        "  pop = np.random.rand(popsize, dimensions)\n",
        "  min_b, max_b = np.asarray(bounds).T\n",
        "  diff = np.fabs(min_b - max_b)\n",
        "  pop_denorm = min_b + pop * diff\n",
        "  fitness = np.asarray([fobj(ind) for ind in pop_denorm])\n",
        "  best_idx = np.argmin(fitness)\n",
        "  best = pop_denorm[best_idx]\n",
        "  for i in range(its):\n",
        "    for j in range(popsize):\n",
        "      idxs = [idx for idx in range(popsize) if idx != j]\n",
        "      a, b, c = pop[np.random.choice(idxs, 3, replace = False)]\n",
        "      mutant = np.clip(a + mut * (b - c), 0, 1)\n",
        "      cross_points = np.random.rand(dimensions) < crossp\n",
        "      if not np.any(cross_points):\n",
        "        cross_points[np.random.randint(0, dimensions)] = True\n",
        "      trial = np.where(cross_points, mutant, pop[j])\n",
        "      trial_denorm = min_b + trial * diff\n",
        "      f = fobj(trial_denorm)\n",
        "      if f < fitness[j]:\n",
        "        fitness[j] = f\n",
        "        pop[j] = trial\n",
        "        if f < fitness[best_idx]:\n",
        "          best_idx = j\n",
        "          best = trial\n",
        "          \n",
        "    pop_denorm = min_b + pop * diff\n",
        "    fitness = np.asarray([fobj(ind) for ind in pop_denorm])\n",
        "\n",
        "  fitness = np.asarray([fobj(ind) for ind in pop_denorm])\n",
        "  best_idx = np.argmin(fitness)\n",
        "  best = pop_denorm[best_idx]\n",
        "  fobj_best = fitness[best_idx]\n",
        "\n",
        "  \n",
        "  return best,fobj_best"
      ],
      "execution_count": 0,
      "outputs": []
    },
    {
      "cell_type": "code",
      "metadata": {
        "id": "yUQTrShUAeRX",
        "colab_type": "code",
        "outputId": "fcdb03d6-7f65-48cf-f38c-7cda39b015c2",
        "colab": {
          "base_uri": "https://localhost:8080/",
          "height": 185
        }
      },
      "source": [
        "bounds=[(12, 60)] *4\n",
        "mut=0.5\n",
        "crossp=0.7\n",
        "popsize=175\n",
        "its=300\n",
        "\n",
        "for i in range(10):\n",
        "  best, fobj_best=de(fobj, bounds, mut, crossp, popsize, its)\n",
        "\n",
        "  print(i,\" - best\",best,\"fo=\",fobj_best)"
      ],
      "execution_count": 5,
      "outputs": [
        {
          "output_type": "stream",
          "text": [
            "0  - best [47.81937817 12.         23.18305641 40.32237046] fo= 5.067839795854193e-13\n",
            "1  - best [56.55942552 24.73023978 16.24475139 49.23041261] fo= 1.5112328874883338e-13\n",
            "2  - best [53.70711264 19.01630813 22.78998149 55.9284441 ] fo= 2.599373603869835e-13\n",
            "3  - best [55.68420976 32.42794728 12.         48.43522227] fo= 1.1624337515145193e-12\n",
            "4  - best [31.25956997 12.47346629 16.30661421 45.09855356] fo= 1.6995202377201659e-13\n",
            "5  - best [49.8346923  26.47314688 15.28766164 56.28733216] fo= 7.781581518130469e-16\n",
            "6  - best [54.72733506 35.63463237 12.         54.15605994] fo= 4.1254190947683234e-13\n",
            "7  - best [60.         23.23355285 19.13056206 51.34401999] fo= 3.8335872662434217e-13\n",
            "8  - best [38.95827933 27.88487597 12.         59.53179955] fo= 9.384435336785922e-13\n",
            "9  - best [41.68096692 13.45749749 20.72592055 46.38053885] fo= 2.3364043149472978e-14\n"
          ],
          "name": "stdout"
        }
      ]
    },
    {
      "cell_type": "code",
      "metadata": {
        "id": "GfRQEZNxMMpW",
        "colab_type": "code",
        "colab": {
          "base_uri": "https://localhost:8080/",
          "height": 33
        },
        "outputId": "285342b7-382e-4a86-b7b8-25ac8b228d3a"
      },
      "source": [
        "x1=round(best[0])\n",
        "x2=round(best[1])\n",
        "x3=round(best[2])\n",
        "x4=round(best[3])\n",
        "BEST=[x1,x2,x3,x4]\n",
        "fobj(BEST)\n"
      ],
      "execution_count": 8,
      "outputs": [
        {
          "output_type": "execute_result",
          "data": {
            "text/plain": [
              "8.850487833236514e-06"
            ]
          },
          "metadata": {
            "tags": []
          },
          "execution_count": 8
        }
      ]
    }
  ]
}