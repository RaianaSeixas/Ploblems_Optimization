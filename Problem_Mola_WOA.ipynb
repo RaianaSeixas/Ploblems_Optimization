{
  "nbformat": 4,
  "nbformat_minor": 0,
  "metadata": {
    "colab": {
      "name": "Problem_Mola_WOA.ipynb",
      "version": "0.3.2",
      "provenance": [],
      "collapsed_sections": [],
      "include_colab_link": true
    },
    "kernelspec": {
      "name": "python3",
      "display_name": "Python 3"
    }
  },
  "cells": [
    {
      "cell_type": "markdown",
      "metadata": {
        "id": "view-in-github",
        "colab_type": "text"
      },
      "source": [
        "<a href=\"https://colab.research.google.com/github/RaianaSeixas/Ploblems_Optimization/blob/master/Problem_Mola_WOA.ipynb\" target=\"_parent\"><img src=\"https://colab.research.google.com/assets/colab-badge.svg\" alt=\"Open In Colab\"/></a>"
      ]
    },
    {
      "cell_type": "code",
      "metadata": {
        "id": "0K-zan9EYOD4",
        "colab_type": "code",
        "outputId": "8581218c-d819-4406-e194-c86ade2354e4",
        "colab": {
          "base_uri": "https://localhost:8080/",
          "height": 119
        }
      },
      "source": [
        "!git clone https://github.com/RaianaSeixas/GERENCIADOR.git #clonar do Github"
      ],
      "execution_count": 0,
      "outputs": [
        {
          "output_type": "stream",
          "text": [
            "Cloning into 'GERENCIADOR'...\n",
            "remote: Enumerating objects: 66, done.\u001b[K\n",
            "remote: Counting objects: 100% (66/66), done.\u001b[K\n",
            "remote: Compressing objects: 100% (65/65), done.\u001b[K\n",
            "remote: Total 66 (delta 32), reused 0 (delta 0), pack-reused 0\u001b[K\n",
            "Unpacking objects: 100% (66/66), done.\n"
          ],
          "name": "stdout"
        }
      ]
    },
    {
      "cell_type": "code",
      "metadata": {
        "id": "goZFfGM-YSEn",
        "colab_type": "code",
        "outputId": "4bce9350-adc7-45e1-dd21-521ca770d4c2",
        "colab": {
          "base_uri": "https://localhost:8080/",
          "height": 68
        }
      },
      "source": [
        "%cd\n",
        "%cd /content/GERENCIADOR\n",
        "!ls"
      ],
      "execution_count": 0,
      "outputs": [
        {
          "output_type": "stream",
          "text": [
            "/root\n",
            "/content/GERENCIADOR\n",
            "ABC.py\tEnxame.py  Function.py\tGWO.py\tMUT.py\tPSO.py\tWOA.py\n"
          ],
          "name": "stdout"
        }
      ]
    },
    {
      "cell_type": "code",
      "metadata": {
        "id": "yhJTAIXuYzV9",
        "colab_type": "code",
        "colab": {}
      },
      "source": [
        "import WOA\n",
        "import Enxame"
      ],
      "execution_count": 0,
      "outputs": []
    },
    {
      "cell_type": "code",
      "metadata": {
        "id": "NhquPhp8AnrK",
        "colab_type": "code",
        "colab": {}
      },
      "source": [
        "import numpy as np\n",
        "import pandas as pd\n",
        "from scipy import optimize\n"
      ],
      "execution_count": 0,
      "outputs": []
    },
    {
      "cell_type": "code",
      "metadata": {
        "id": "LbaewXipBVIV",
        "colab_type": "code",
        "colab": {}
      },
      "source": [
        "'''Mola Function'''\n",
        "def Fun(x):\n",
        "  g1=1-(x[1]**3*x[2])/(71785*(x[0]**4))\n",
        "  g2=(4*(x[1]**2)-x[0]*x[1])/(12566*x[1]*(x[0]**3)-12566*(x[0]**4))+(1/(5108*x[0]**2))-1\n",
        "  #g2=(4*(x[1]**2)-x[0]*x[1])/(12566*x[1]*(x[0]**3)-12566*(x[0]**4))+(1/(5108*x[0]**2))\n",
        "  #g2=(4*(x[1]**2)-x[0]*x[1])/(12566*x[1]*(x[0]**3)-12566*(x[0]**4))-(1/(5108*x[0]**2))\n",
        "  #g2=0\n",
        "  g3=1-140.45*x[0]/((x[1]**2)*x[2])\n",
        "  g4=(x[0]+x[1])/1.5-1\n",
        "  #g4=(x[0]+x[1])/1.5\n",
        "  fx=(x[2]+2)*x[1]*x[0]**2\n",
        "\n",
        "  if g1<=0:\n",
        "    g1=0\n",
        "  else:\n",
        "    g1=1e99  \n",
        "  if g2<=0:\n",
        "    g2=0\n",
        "  else:\n",
        "    g2=1e99\n",
        "  if g3<=0:\n",
        "    g3=0\n",
        "  else:\n",
        "    g3=1e99\n",
        "  if g4<=0:\n",
        "    g4=0\n",
        "  else:\n",
        "    g4=1e99\n",
        "  MIN=[g1,g2,g3,g4,fx]\n",
        "  fun=max(MIN)\n",
        "  return fun\n"
      ],
      "execution_count": 0,
      "outputs": []
    },
    {
      "cell_type": "code",
      "metadata": {
        "id": "Iz6w9i9xJGU1",
        "colab_type": "code",
        "colab": {}
      },
      "source": [
        "'''Mola Function'''\n",
        "def Testa_mola(x):\n",
        "  g1=1-(x[1]**3*x[2])/(71785*(x[0]**4))\n",
        "  g2=(4*(x[1]**2)-x[0]*x[1])/(12566*x[1]*(x[0]**3)-12566*(x[0]**4))+(1/(5108*x[0]**2))-1\n",
        "  #g2=(4*(x[1]**2)-x[0]*x[1])/(12566*x[1]*(x[0]**3)-12566*(x[0]**4))+(1/(5108*x[0]**2))\n",
        "  #g2=(4*(x[1]**2)-x[0]*x[1])/(12566*x[1]*(x[0]**3)-12566*(x[0]**4))-(1/(5108*x[0]**2))\n",
        "  #g2=0\n",
        "  g3=1-140.45*x[0]/((x[1]**2)*x[2])\n",
        "  g4=(x[0]+x[1])/1.5-1\n",
        "  #g4=(x[0]+x[1])/1.5\n",
        "  fx=(x[2]+2)*x[1]*x[0]**2\n",
        "  VETOR=[g1,g2,g3,g4,fx]\n",
        "  return VETOR\n"
      ],
      "execution_count": 0,
      "outputs": []
    },
    {
      "cell_type": "code",
      "metadata": {
        "id": "8Z0rSCdWWdx3",
        "colab_type": "code",
        "colab": {}
      },
      "source": [
        "MIN=[0.05,0.25,2]\n",
        "MAX=[2,1.3,15]\n",
        "PAR=len(MAX)\n",
        "\n",
        "NPAR=300\n",
        "ITE=1000"
      ],
      "execution_count": 0,
      "outputs": []
    },
    {
      "cell_type": "code",
      "metadata": {
        "id": "N2SE_r9vZdcp",
        "colab_type": "code",
        "outputId": "59837303-2a87-4c5c-e794-c9dfd44f04f7",
        "colab": {
          "base_uri": "https://localhost:8080/",
          "height": 156
        }
      },
      "source": [
        "    \n",
        "    X=Enxame.Enxame(PAR,NPAR,MAX,MIN) # inicializa baleias\n",
        "    \n",
        "    BEST_WOA,FOBEST_WOA,XY_WOA,BEST_XY_WOA=WOA.WOA(ITE,PAR,NPAR,MAX,MIN,Fun,X) #Roda Algoritmo\n",
        "    \n",
        "    print(\"\\n\",\"WOA _\",NPAR,\"Agentes _\",ITE,\"Iterações _\",\"Min/Max=\",MIN[0],\"/\",MAX[0],'_',Fun.__name__,\"\\n\")\n",
        "    print(\"BEST=\",BEST_WOA,\"  FOBEST=\",FOBEST_WOA,\"\\n\")\n",
        "    print(\"FOBEST=\",FOBEST_WOA,\"\\n\")"
      ],
      "execution_count": 0,
      "outputs": [
        {
          "output_type": "stream",
          "text": [
            "\n",
            " WOA _ 300 Agentes _ 1000 Iterações _ Min/Max= 0.05 / 2 _ Fun \n",
            "\n",
            "BEST= [ 0.05087922  0.33752239 12.51184872]   FOBEST= 0.012686456373521199 \n",
            "\n",
            "FOBEST= 0.012686456373521199 \n",
            "\n"
          ],
          "name": "stdout"
        }
      ]
    },
    {
      "cell_type": "code",
      "metadata": {
        "id": "h50KpiG1A6A6",
        "colab_type": "code",
        "colab": {}
      },
      "source": [
        "#MIN=[0.05,0.25,2]\n",
        "#MAX=[2,1.3,15]\n",
        "bounds = [(0.05, 2), (0.25, 1.3),(2,15)]\n",
        "ret = optimize.differential_evolution(function,bounds,\n",
        "                                      init=\"latinhypercube\", # obs: init=\"random\"\n",
        "                                      maxiter=1000, popsize=50,recombination=0.5)"
      ],
      "execution_count": 0,
      "outputs": []
    },
    {
      "cell_type": "code",
      "metadata": {
        "id": "bIgjNxroA-iB",
        "colab_type": "code",
        "outputId": "56546a2e-37e3-4dca-e6ac-a81a90b8f84a",
        "colab": {
          "base_uri": "https://localhost:8080/",
          "height": 54
        }
      },
      "source": [
        "print(\"global minimum: x = \",ret.x, \"f(x0) = \",ret.fun)"
      ],
      "execution_count": 0,
      "outputs": [
        {
          "output_type": "stream",
          "text": [
            "global minimum: x =  [ 0.05223289  0.36993259 10.56004079] f(x0) =  0.012676570246515197\n"
          ],
          "name": "stdout"
        }
      ]
    },
    {
      "cell_type": "code",
      "metadata": {
        "id": "Rlf3dDynJfuX",
        "colab_type": "code",
        "outputId": "2e5d4ac0-da91-44b6-9e13-c6a189e11fd1",
        "colab": {
          "base_uri": "https://localhost:8080/",
          "height": 105
        }
      },
      "source": [
        "'''spring'''\n",
        "#otimo cpso= [0.051728,0.357644,11.244543]=0.0126747\n",
        "#Fun([0.051728,0.357644,11.244543])\n",
        "#g1,g2,g3,g4\n",
        "x1=0.051728\n",
        "x2=0.357644\n",
        "x3=11.244543\n",
        "z=[x1,x2,x3]\n",
        "Resp=Testa_mola(z)\n",
        "print(\"--- otimo--------\")\n",
        "print(Resp)\n",
        "#VETOR=[g1,g2,g3,g4,fx]\n",
        "Resp=Testa_mola(ret.x)\n",
        "print(\"--- calculado----\")\n",
        "print(Resp)"
      ],
      "execution_count": 0,
      "outputs": [
        {
          "output_type": "stream",
          "text": [
            "--- otimo--------\n",
            "[-0.0008250946999455167, -2.527414270114825e-05, -4.051306651765286, -0.7270853333333334, 0.01267474689929244]\n",
            "--- calculado----\n",
            "[-0.0005145168472127093, -2.149188888933562e-05, -4.076390671220898, -0.7185563489852043, 0.012676570246515197]\n"
          ],
          "name": "stdout"
        }
      ]
    },
    {
      "cell_type": "code",
      "metadata": {
        "id": "6Uxxd5EEYPBy",
        "colab_type": "code",
        "colab": {}
      },
      "source": [
        ""
      ],
      "execution_count": 0,
      "outputs": []
    }
  ]
}