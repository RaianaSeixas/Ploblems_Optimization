{
  "nbformat": 4,
  "nbformat_minor": 0,
  "metadata": {
    "colab": {
      "name": "Problem_blend_WOA.ipynb",
      "version": "0.3.2",
      "provenance": [],
      "collapsed_sections": [],
      "include_colab_link": true
    },
    "kernelspec": {
      "name": "python3",
      "display_name": "Python 3"
    }
  },
  "cells": [
    {
      "cell_type": "markdown",
      "metadata": {
        "id": "view-in-github",
        "colab_type": "text"
      },
      "source": [
        "<a href=\"https://colab.research.google.com/github/RaianaSeixas/Ploblems_Optimization/blob/master/Problem_blend_WOA.ipynb\" target=\"_parent\"><img src=\"https://colab.research.google.com/assets/colab-badge.svg\" alt=\"Open In Colab\"/></a>"
      ]
    },
    {
      "cell_type": "code",
      "metadata": {
        "id": "eQr1GjHLdmpS",
        "colab_type": "code",
        "outputId": "ecf76b3d-4efb-4bd2-a07f-e1a47e8ffbac",
        "colab": {
          "base_uri": "https://localhost:8080/",
          "height": 119
        }
      },
      "source": [
        "!git clone https://github.com/RaianaSeixas/GERENCIADOR.git #clonar do Github"
      ],
      "execution_count": 0,
      "outputs": [
        {
          "output_type": "stream",
          "text": [
            "Cloning into 'GERENCIADOR'...\n",
            "remote: Enumerating objects: 66, done.\u001b[K\n",
            "remote: Counting objects: 100% (66/66), done.\u001b[K\n",
            "remote: Compressing objects: 100% (65/65), done.\u001b[K\n",
            "remote: Total 66 (delta 32), reused 0 (delta 0), pack-reused 0\u001b[K\n",
            "Unpacking objects: 100% (66/66), done.\n"
          ],
          "name": "stdout"
        }
      ]
    },
    {
      "cell_type": "code",
      "metadata": {
        "id": "PaL5P03DdnAn",
        "colab_type": "code",
        "outputId": "59210c07-3b3b-4523-ad74-e71f858496cc",
        "colab": {
          "base_uri": "https://localhost:8080/",
          "height": 68
        }
      },
      "source": [
        "%cd\n",
        "%cd /content/GERENCIADOR\n",
        "!ls"
      ],
      "execution_count": 0,
      "outputs": [
        {
          "output_type": "stream",
          "text": [
            "/root\n",
            "/content/GERENCIADOR\n",
            "ABC.py\tEnxame.py  Function.py\tGWO.py\tMUT.py\tPSO.py\tWOA.py\n"
          ],
          "name": "stdout"
        }
      ]
    },
    {
      "cell_type": "code",
      "metadata": {
        "id": "jxrNGCO5eFJN",
        "colab_type": "code",
        "colab": {}
      },
      "source": [
        "import WOA\n",
        "import Enxame"
      ],
      "execution_count": 0,
      "outputs": []
    },
    {
      "cell_type": "code",
      "metadata": {
        "id": "NhquPhp8AnrK",
        "colab_type": "code",
        "colab": {}
      },
      "source": [
        "import numpy as np\n",
        "import pandas as pd\n",
        "from scipy import optimize"
      ],
      "execution_count": 0,
      "outputs": []
    },
    {
      "cell_type": "code",
      "metadata": {
        "colab_type": "code",
        "id": "LfBWLTbAFXkF",
        "colab": {}
      },
      "source": [
        "''' Haverly's  Pooling Problem Case  I '''\n",
        "#x[0]=#x, x1=y,x2=A,x3=B,x4=Cx,x5=Cy,x6=Px,x7=Py,x8=p\n",
        "def Fun(x):\n",
        "  e1=x[6]+x[7]-x[2]-x[3]\n",
        "  e2=x[0]-x[6]-x[4]\n",
        "  e3=x[1]-x[7]-x[5]\n",
        "  e4=x[8]*x[6]+x[8]*x[7]-3*x[2]-x[3]\n",
        "  g1=x[8]*x[6]+2*x[4]-2.5*x[0]\n",
        "  g2=x[8]*x[7]+2*x[5]-1.5*x[1]\n",
        "\n",
        "  if e1==0:\n",
        "    h1=0\n",
        "  else:\n",
        "    h1=1e15  \n",
        "  if e2==0:\n",
        "    h2=0\n",
        "  else:\n",
        "    h2=1e15\n",
        "  if e3==0:\n",
        "    h3=0\n",
        "  else:\n",
        "    h3=1e15\n",
        "  if e4==0:\n",
        "    h4=0\n",
        "  else:\n",
        "    h4=1e15\n",
        "    \n",
        "  if g1<=0:\n",
        "    i1=0\n",
        "  else:\n",
        "    i1=1e15  \n",
        "  if g2<=0:\n",
        "    i2=0\n",
        "  else:\n",
        "    i2=1e15\n",
        "    \n",
        "    \n",
        "  fx=-(9*x[0]+15*x[1]-6*x[2]-16*x[3]-10*(x[4]+x[5]))+h1*e1**2+h2*e2**2 +h3*e3**2+h4*e4**2+h1*g1**2+h2*g2**2\n",
        "    \n",
        "  '''vetor=[e1,e2,e3,e4,g1,g2,fx]\n",
        "  fun=min(vetor)'''\n",
        "  return fx\n",
        " \n",
        "  \n"
      ],
      "execution_count": 0,
      "outputs": []
    },
    {
      "cell_type": "code",
      "metadata": {
        "id": "Iz6w9i9xJGU1",
        "colab_type": "code",
        "colab": {}
      },
      "source": [
        "def Testa(x):\n",
        "  e1=x[6]+x[7]-x[2]-x[3]\n",
        "  e2=x[0]-x[6]-x[4]\n",
        "  e3=x[1]-x[7]-x[5]\n",
        "  e4=x[8]*x[6]+x[8]*x[7]-3*x[2]-x[3]\n",
        "  g1=x[8]*x[6]+2*x[4]-2.5*x[0]\n",
        "  g2=x[8]*x[7]+2*x[5]-1.5*x[1]\n",
        "  fx=-(9*x[0]+15*x[1]-6*x[2]-16*x[3]-10*(x[4]+x[5]))\n",
        "  VETOR=[e1,e2,e3,e4,g1,g2,fx]\n",
        "  return VETOR\n"
      ],
      "execution_count": 0,
      "outputs": []
    },
    {
      "cell_type": "code",
      "metadata": {
        "id": "7ncTIeNIAzKY",
        "colab_type": "code",
        "colab": {}
      },
      "source": [
        "dim=9\n",
        "MIN=np.repeat(0,dim)\n",
        "MAX=[100,200, 1000, 1000, 1000, 1000, 1000, 1000, 1000]\n",
        "\n",
        "PAR=len(MAX)\n",
        "\n",
        "NPAR=1000\n",
        "ITE=1000"
      ],
      "execution_count": 0,
      "outputs": []
    },
    {
      "cell_type": "code",
      "metadata": {
        "id": "h50KpiG1A6A6",
        "colab_type": "code",
        "outputId": "192d46c5-4633-443d-ad23-96e962560426",
        "colab": {
          "base_uri": "https://localhost:8080/",
          "height": 136
        }
      },
      "source": [
        "    X=Enxame.Enxame(PAR,NPAR,MAX,MIN) # inicializa baleias\n",
        "    \n",
        "    BEST_WOA,FOBEST_WOA,XY_WOA,BEST_XY_WOA=WOA.WOA(ITE,PAR,NPAR,MAX,MIN,Fun,X) #Roda Algoritmo\n",
        "    \n",
        "    print(\"\\n\",\"WOA _\",NPAR,\"Agentes _\",ITE,\"Iterações _\",\"Min/Max=\",MIN[0],\"/\",MAX[0],'_',Fun.__name__,\"\\n\")\n",
        "    print(\"BEST=\",BEST_WOA,\"  FOBEST=\",FOBEST_WOA,\"\\n\")\n",
        "    print(\"FOBEST=\",FOBEST_WOA,\"\\n\")"
      ],
      "execution_count": 0,
      "outputs": [
        {
          "output_type": "stream",
          "text": [
            "\n",
            " WOA _ 1000 Agentes _ 1000 Iterações _ Min/Max= 0 / 100 _ Fun \n",
            "\n",
            "BEST= [0. 0. 0. 0. 0. 0. 0. 0. 0.]   FOBEST= 0.0 \n",
            "\n",
            "FOBEST= 0.0 \n",
            "\n"
          ],
          "name": "stdout"
        }
      ]
    },
    {
      "cell_type": "code",
      "metadata": {
        "id": "Rlf3dDynJfuX",
        "colab_type": "code",
        "outputId": "8ed8c194-fd03-4e65-bd55-6c510ddd7870",
        "colab": {
          "base_uri": "https://localhost:8080/",
          "height": 51
        }
      },
      "source": [
        "'''spring'''\n",
        "\n",
        "'''Resp=Testa(z)\n",
        "print(\"--- otimo--------\")\n",
        "print(Resp)'''\n",
        "#VETOR=[g1,g2,g3,g4,fx]\n",
        "Resp=Testa(BEST_WOA)\n",
        "print(\"--- calculado----\")\n",
        "print(Resp)"
      ],
      "execution_count": 0,
      "outputs": [
        {
          "output_type": "stream",
          "text": [
            "--- calculado----\n",
            "[0.0, 0.0, 0.0, 0.0, 0.0, 0.0, -0.0]\n"
          ],
          "name": "stdout"
        }
      ]
    },
    {
      "cell_type": "code",
      "metadata": {
        "id": "DFGGDsKnbVJT",
        "colab_type": "code",
        "outputId": "32e02fdc-9532-4461-c9dd-1c7cc278f2b9",
        "colab": {
          "base_uri": "https://localhost:8080/",
          "height": 51
        }
      },
      "source": [
        "#x[0]=#x, x1=y,x2=A,x3=B,x4=Cx,x5=Cy,x6=Px,x7=Py,x8=p \n",
        "#fx best=400\n",
        "otimo=[0,200,0,100,0,100,0,100,1]\n",
        "print(Fun(otimo))\n",
        "print(Testa(otimo))"
      ],
      "execution_count": 0,
      "outputs": [
        {
          "output_type": "stream",
          "text": [
            "-400.0\n",
            "[0, 0, 0, 0, 0.0, 0.0, -400]\n"
          ],
          "name": "stdout"
        }
      ]
    }
  ]
}