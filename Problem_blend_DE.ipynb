{
  "nbformat": 4,
  "nbformat_minor": 0,
  "metadata": {
    "colab": {
      "name": "Problem_blend_DE.ipynb",
      "version": "0.3.2",
      "provenance": [],
      "collapsed_sections": [],
      "include_colab_link": true
    },
    "kernelspec": {
      "name": "python3",
      "display_name": "Python 3"
    }
  },
  "cells": [
    {
      "cell_type": "markdown",
      "metadata": {
        "id": "view-in-github",
        "colab_type": "text"
      },
      "source": [
        "<a href=\"https://colab.research.google.com/github/RaianaSeixas/Ploblems_Optimization/blob/master/Problem_blend_DE.ipynb\" target=\"_parent\"><img src=\"https://colab.research.google.com/assets/colab-badge.svg\" alt=\"Open In Colab\"/></a>"
      ]
    },
    {
      "cell_type": "code",
      "metadata": {
        "id": "NhquPhp8AnrK",
        "colab_type": "code",
        "colab": {}
      },
      "source": [
        "import numpy as np\n",
        "import pandas as pd\n",
        "from scipy import optimize"
      ],
      "execution_count": 0,
      "outputs": []
    },
    {
      "cell_type": "code",
      "metadata": {
        "id": "LbaewXipBVIV",
        "colab_type": "code",
        "cellView": "code",
        "outputId": "d82fa5a6-1e12-4949-f5d9-85659173fc43",
        "colab": {
          "base_uri": "https://localhost:8080/",
          "height": 54
        }
      },
      "source": [
        "#@title Default title text\n",
        "'''Mola Function'''\n",
        "'''def Fun(x):\n",
        "  g1=1-(x[1]**3*x[2])/(71785*(x[0]**4))\n",
        "  g2=(4*(x[1]**2)-x[0]*x[1])/(12566*x[1]*(x[0]**3)-12566*(x[0]**4))+(1/(5108*x[0]**2))-1\n",
        "  #g2=(4*(x[1]**2)-x[0]*x[1])/(12566*x[1]*(x[0]**3)-12566*(x[0]**4))+(1/(5108*x[0]**2))\n",
        "  #g2=(4*(x[1]**2)-x[0]*x[1])/(12566*x[1]*(x[0]**3)-12566*(x[0]**4))-(1/(5108*x[0]**2))\n",
        "  #g2=0\n",
        "  g3=1-140.45*x[0]/((x[1]**2)*x[2])\n",
        "  g4=(x[0]+x[1])/1.5-1\n",
        "  #g4=(x[0]+x[1])/1.5\n",
        "  fx=(x[2]+2)*x[1]*x[0]**2\n",
        "\n",
        "  if g1<=0:\n",
        "    g1=0\n",
        "  else:\n",
        "    g1=1e99  \n",
        "  if g2<=0:\n",
        "    g2=0\n",
        "  else:\n",
        "    g2=1e99\n",
        "  if g3<=0:\n",
        "    g3=0\n",
        "  else:\n",
        "    g3=1\n",
        "  if g4<=0:\n",
        "    g4=0\n",
        "  else:\n",
        "    g4=1e99\n",
        "  MIN=[g1,g2,g3,g4,fx]\n",
        "  fun=max(MIN)\n",
        "  return fun\n",
        "'''"
      ],
      "execution_count": 0,
      "outputs": [
        {
          "output_type": "execute_result",
          "data": {
            "text/plain": [
              "'def Fun(x):\\n  g1=1-(x[1]**3*x[2])/(71785*(x[0]**4))\\n  g2=(4*(x[1]**2)-x[0]*x[1])/(12566*x[1]*(x[0]**3)-12566*(x[0]**4))+(1/(5108*x[0]**2))-1\\n  #g2=(4*(x[1]**2)-x[0]*x[1])/(12566*x[1]*(x[0]**3)-12566*(x[0]**4))+(1/(5108*x[0]**2))\\n  #g2=(4*(x[1]**2)-x[0]*x[1])/(12566*x[1]*(x[0]**3)-12566*(x[0]**4))-(1/(5108*x[0]**2))\\n  #g2=0\\n  g3=1-140.45*x[0]/((x[1]**2)*x[2])\\n  g4=(x[0]+x[1])/1.5-1\\n  #g4=(x[0]+x[1])/1.5\\n  fx=(x[2]+2)*x[1]*x[0]**2\\n\\n  if g1<=0:\\n    g1=0\\n  else:\\n    g1=1e99  \\n  if g2<=0:\\n    g2=0\\n  else:\\n    g2=1e99\\n  if g3<=0:\\n    g3=0\\n  else:\\n    g3=1\\n  if g4<=0:\\n    g4=0\\n  else:\\n    g4=1e99\\n  MIN=[g1,g2,g3,g4,fx]\\n  fun=max(MIN)\\n  return fun\\n'"
            ]
          },
          "metadata": {
            "tags": []
          },
          "execution_count": 10
        }
      ]
    },
    {
      "cell_type": "code",
      "metadata": {
        "colab_type": "code",
        "id": "LfBWLTbAFXkF",
        "colab": {}
      },
      "source": [
        "''' Haverly's  Pooling Problem Case  I '''\n",
        "#x[0]=#x, x1=y,x2=A,x3=B,x4=Cx,x5=Cy,x6=Px,x7=Py,x8=p\n",
        "def Fun(x):\n",
        "  e1=x[6]+x[7]-x[2]-x[3]\n",
        "  e2=x[0]-x[6]-x[4]\n",
        "  e3=x[1]-x[7]-x[5]\n",
        "  e4=x[8]*x[6]+x[8]*x[7]-3*x[2]-x[3]\n",
        "  g1=x[8]*x[6]+2*x[4]-2.5*x[0]\n",
        "  g2=x[8]*x[7]+2*x[5]-1.5*x[1]\n",
        "\n",
        "  if e1==0:\n",
        "    h1=0\n",
        "  else:\n",
        "    h1=1e15  \n",
        "  if e2==0:\n",
        "    h2=0\n",
        "  else:\n",
        "    h2=1e15\n",
        "  if e3==0:\n",
        "    h3=0\n",
        "  else:\n",
        "    h3=1e15\n",
        "  if e4==0:\n",
        "    h4=0\n",
        "  else:\n",
        "    h4=1e15\n",
        "    \n",
        "  if g1<=0:\n",
        "    i1=0\n",
        "  else:\n",
        "    i1=1e15  \n",
        "  if g2<=0:\n",
        "    i2=0\n",
        "  else:\n",
        "    i2=1e15\n",
        "    \n",
        "    \n",
        "  fx=-(9*x[0]+15*x[1]-6*x[2]-16*x[3]-10*(x[4]+x[5]))+h1*e1**2+h2*e2**2 +h3*e3**2+h4*e4**2+h1*g1**2+h2*g2**2\n",
        "    \n",
        "  '''vetor=[e1,e2,e3,e4,g1,g2,fx]\n",
        "  fun=min(vetor)'''\n",
        "  return fx\n",
        "\n",
        "  \n"
      ],
      "execution_count": 0,
      "outputs": []
    },
    {
      "cell_type": "code",
      "metadata": {
        "id": "Iz6w9i9xJGU1",
        "colab_type": "code",
        "colab": {}
      },
      "source": [
        "def Testa(x):\n",
        "  #x[0]=#x, x1=y,x2=A,x3=B,x4=Cx,x5=Cy,x6=Px,x7=Py,x8=p \n",
        "  '''  e1=Px+Py-A-B\n",
        "  e2=x-Px-Cx\n",
        "  e3=y-Py-Cy\n",
        "  e4=p*Px+p*Py-3*A-B\n",
        "  g1=p*Px+2*Cx-2.5*x\n",
        "  g2=p*Py+2*Cy-1.5*y\n",
        "  fx=-(9*x+15*y-6*A-16*B-10(Cx+Cy))'''\n",
        "  \n",
        "  e1=x[6]+x[7]-x[2]-x[3]\n",
        "  e2=x[0]-x[6]-x[4]\n",
        "  e3=x[1]-x[7]-x[5]\n",
        "  e4=x[8]*x[6]+x[8]*x[7]-3*x[2]-x[3]\n",
        "  g1=x[8]*x[6]+2*x[4]-2.5*x[0]\n",
        "  g2=x[8]*x[7]+2*x[5]-1.5*x[1]\n",
        "  \n",
        "  fx=-(9*x[0]+15*x[1]-6*x[2]-16*x[3]-10*(x[4]+x[5]))\n",
        "  VETOR=[e1,e2,e3,e4,g1,g2,fx]\n",
        "  return VETOR\n"
      ],
      "execution_count": 0,
      "outputs": []
    },
    {
      "cell_type": "code",
      "metadata": {
        "id": "7ncTIeNIAzKY",
        "colab_type": "code",
        "colab": {}
      },
      "source": [
        "x0 = np.array([2., 2.])\n",
        "# Initial guess."
      ],
      "execution_count": 0,
      "outputs": []
    },
    {
      "cell_type": "code",
      "metadata": {
        "id": "h50KpiG1A6A6",
        "colab_type": "code",
        "colab": {}
      },
      "source": [
        "#MIN=[\n",
        "#MAX=\n",
        "#x,y,A,B,Cx,Cy,Px,Py,p\n",
        "bounds = [(0, 100), (0, 200),(0,1000),(0,1000),(0,1000),(0,1000),(0,1000),(0,1000),(0,1000)]\n",
        "ret = optimize.differential_evolution(Fun,bounds,\n",
        "                                      init=\"latinhypercube\", # obs: init=\"random\"\n",
        "                                      maxiter=1000, popsize=100,recombination=0.5)"
      ],
      "execution_count": 0,
      "outputs": []
    },
    {
      "cell_type": "code",
      "metadata": {
        "id": "bIgjNxroA-iB",
        "colab_type": "code",
        "outputId": "9a6dc15a-9061-4ac6-9006-a1bd11cc82c9",
        "colab": {
          "base_uri": "https://localhost:8080/",
          "height": 85
        }
      },
      "source": [
        "print(\"global minimum: x = \",ret.x, \"f(x0) = \",ret.fun)"
      ],
      "execution_count": 0,
      "outputs": [
        {
          "output_type": "stream",
          "text": [
            "global minimum: x =  [ 0.         76.23627663  5.16503517 43.2837971   0.         27.78744443\n",
            "  0.         48.44883217  1.21321608] f(x0) =  -103.68635905129699\n",
            "global minimum: x =  [ 0.         44.60777638  4.93242399 27.23645201  0.         12.43890035\n",
            "  0.         32.16887602  1.30665815] f(x0) =  -66.6527030774586\n"
          ],
          "name": "stdout"
        }
      ]
    },
    {
      "cell_type": "code",
      "metadata": {
        "id": "Rlf3dDynJfuX",
        "colab_type": "code",
        "outputId": "ed255d96-62f1-46c4-8cc6-41665ab1f150",
        "colab": {
          "base_uri": "https://localhost:8080/",
          "height": 105
        }
      },
      "source": [
        "'''spring'''\n",
        "\n",
        "'''Resp=Testa(z)\n",
        "print(\"--- otimo--------\")\n",
        "print(Resp)'''\n",
        "#VETOR=[g1,g2,g3,g4,fx]\n",
        "Resp=Testa(ret.x)\n",
        "print(\"--- calculado----\")\n",
        "print(Resp)"
      ],
      "execution_count": 0,
      "outputs": [
        {
          "output_type": "stream",
          "text": [
            "--- calculado----\n",
            "[-9.504826437023439e-08, 0.0, 2.6660192276040107e-08, -1.6943270964020485e-07, 0.0, -0.0006236439344746714, -142.13874055930836]\n",
            "--- calculado----\n",
            "[1.5433961664257367e-08, 0.0, 1.2370813706752415e-08, -1.1093204577150573e-07, 0.0, -0.00014000105822731257, -79.34986606093098]\n"
          ],
          "name": "stdout"
        }
      ]
    }
  ]
}